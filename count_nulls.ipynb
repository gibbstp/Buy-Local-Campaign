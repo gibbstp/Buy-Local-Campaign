{
 "cells": [
  {
   "cell_type": "code",
   "execution_count": 3,
   "metadata": {},
   "outputs": [],
   "source": [
    "import polars as pl\n",
    "import pandas as pd"
   ]
  },
  {
   "cell_type": "code",
   "execution_count": 4,
   "metadata": {},
   "outputs": [
    {
     "data": {
      "text/plain": [
       "'/'"
      ]
     },
     "execution_count": 4,
     "metadata": {},
     "output_type": "execute_result"
    }
   ],
   "source": [
    "pwd"
   ]
  },
  {
   "cell_type": "markdown",
   "metadata": {},
   "source": [
    "Notebook to count all of the nulls in each column. This will be used to cull columns that don't provide any valuable addition to the data. Attempts to filling in the data will be done before columns are removed."
   ]
  },
  {
   "cell_type": "code",
   "execution_count": 5,
   "metadata": {},
   "outputs": [],
   "source": [
    "parquet_file_path = \"/app/data/data.parquet\""
   ]
  },
  {
   "cell_type": "code",
   "execution_count": 6,
   "metadata": {},
   "outputs": [],
   "source": [
    "lf = pl.scan_parquet(source=parquet_file_path)"
   ]
  },
  {
   "cell_type": "code",
   "execution_count": 8,
   "metadata": {},
   "outputs": [],
   "source": [
    "null_count = lf.null_count().collect()"
   ]
  },
  {
   "cell_type": "code",
   "execution_count": 9,
   "metadata": {},
   "outputs": [
    {
     "data": {
      "text/html": [
       "<div><style>\n",
       ".dataframe > thead > tr > th,\n",
       ".dataframe > tbody > tr > td {\n",
       "  text-align: right;\n",
       "  white-space: pre-wrap;\n",
       "}\n",
       "</style>\n",
       "<small>shape: (1, 40)</small><table border=\"1\" class=\"dataframe\"><thead><tr><th>category</th><th>categoryid</th><th>client_id</th><th>date</th><th>detail_category</th><th>high_level_category</th><th>is_physical</th><th>recurring</th><th>address</th><th>city</th><th>country</th><th>merchantemail</th><th>latitude</th><th>merchantlogourl</th><th>longitude</th><th>simple_description</th><th>merchantphonenumber</th><th>state</th><th>merchanttype</th><th>merchantwebsite</th><th>zip_code</th><th>sourceid</th><th>transactionid</th><th>uid</th><th>type</th><th>subtype</th><th>original_description</th><th>amountnum</th><th>accountid</th><th>merchantname</th><th>merchantcountry</th><th>requestid</th><th>created_at</th><th>categorylabel</th><th>originalmerchanturl</th><th>cloudflaremerchanturl</th><th>guid</th><th>id</th><th>settlement</th><th>batch_request_id</th></tr><tr><td>u32</td><td>u32</td><td>u32</td><td>u32</td><td>u32</td><td>u32</td><td>u32</td><td>u32</td><td>u32</td><td>u32</td><td>u32</td><td>u32</td><td>u32</td><td>u32</td><td>u32</td><td>u32</td><td>u32</td><td>u32</td><td>u32</td><td>u32</td><td>u32</td><td>u32</td><td>u32</td><td>u32</td><td>u32</td><td>u32</td><td>u32</td><td>u32</td><td>u32</td><td>u32</td><td>u32</td><td>u32</td><td>u32</td><td>u32</td><td>u32</td><td>u32</td><td>u32</td><td>u32</td><td>u32</td><td>u32</td></tr></thead><tbody><tr><td>320</td><td>320</td><td>0</td><td>0</td><td>320</td><td>320</td><td>0</td><td>55567138</td><td>48966997</td><td>34112024</td><td>533061</td><td>54849318</td><td>48970910</td><td>0</td><td>48970910</td><td>219704</td><td>49603910</td><td>20851302</td><td>859</td><td>54202303</td><td>48966951</td><td>55567138</td><td>0</td><td>0</td><td>859</td><td>901</td><td>0</td><td>0</td><td>0</td><td>18138940</td><td>533061</td><td>0</td><td>0</td><td>22793528</td><td>55562264</td><td>55562264</td><td>0</td><td>0</td><td>55567138</td><td>0</td></tr></tbody></table></div>"
      ],
      "text/plain": [
       "shape: (1, 40)\n",
       "┌──────────┬────────────┬───────────┬──────┬───┬──────┬─────┬────────────┬──────────────────┐\n",
       "│ category ┆ categoryid ┆ client_id ┆ date ┆ … ┆ guid ┆ id  ┆ settlement ┆ batch_request_id │\n",
       "│ ---      ┆ ---        ┆ ---       ┆ ---  ┆   ┆ ---  ┆ --- ┆ ---        ┆ ---              │\n",
       "│ u32      ┆ u32        ┆ u32       ┆ u32  ┆   ┆ u32  ┆ u32 ┆ u32        ┆ u32              │\n",
       "╞══════════╪════════════╪═══════════╪══════╪═══╪══════╪═════╪════════════╪══════════════════╡\n",
       "│ 320      ┆ 320        ┆ 0         ┆ 0    ┆ … ┆ 0    ┆ 0   ┆ 55567138   ┆ 0                │\n",
       "└──────────┴────────────┴───────────┴──────┴───┴──────┴─────┴────────────┴──────────────────┘"
      ]
     },
     "execution_count": 9,
     "metadata": {},
     "output_type": "execute_result"
    }
   ],
   "source": [
    "null_count"
   ]
  },
  {
   "cell_type": "code",
   "execution_count": 28,
   "metadata": {},
   "outputs": [
    {
     "ename": "TypeError",
     "evalue": "'tuple' object is not callable",
     "output_type": "error",
     "traceback": [
      "\u001b[0;31m---------------------------------------------------------------------------\u001b[0m",
      "\u001b[0;31mTypeError\u001b[0m                                 Traceback (most recent call last)",
      "\u001b[1;32m/app/count_nulls.ipynb Cell 8\u001b[0m line \u001b[0;36m1\n\u001b[0;32m----> <a href='vscode-notebook-cell://attached-container%2B7b22636f6e7461696e65724e616d65223a222f6a61726564735f7468696e672d707974686f6e2d31222c22637764223a225c5c5c5c77736c245c5c5562756e74752d32302e30345c5c686f6d655c5c67696262737470227d/app/count_nulls.ipynb#X22sdnNjb2RlLXJlbW90ZQ%3D%3D?line=0'>1</a>\u001b[0m null_count\u001b[39m.\u001b[39;49mshape()\n",
      "\u001b[0;31mTypeError\u001b[0m: 'tuple' object is not callable"
     ]
    }
   ],
   "source": [
    "null_count.shape()"
   ]
  },
  {
   "cell_type": "code",
   "execution_count": 11,
   "metadata": {},
   "outputs": [],
   "source": [
    "null_count_file_path = '/app/data/null_count.json'\n",
    "\n",
    "with open(null_count_file_path, 'wb+') as f:\n",
    "    null_count.write_json(file=f, pretty=True)"
   ]
  },
  {
   "cell_type": "code",
   "execution_count": 12,
   "metadata": {},
   "outputs": [],
   "source": [
    "df_shape = lf.select(pl.count()).collect()"
   ]
  },
  {
   "cell_type": "code",
   "execution_count": 14,
   "metadata": {},
   "outputs": [
    {
     "data": {
      "text/plain": [
       "55567138"
      ]
     },
     "execution_count": 14,
     "metadata": {},
     "output_type": "execute_result"
    }
   ],
   "source": [
    "df_shape.item()"
   ]
  },
  {
   "cell_type": "code",
   "execution_count": 21,
   "metadata": {},
   "outputs": [],
   "source": [
    "row_count = df_shape.item()"
   ]
  },
  {
   "cell_type": "code",
   "execution_count": 18,
   "metadata": {},
   "outputs": [
    {
     "data": {
      "text/plain": [
       "901"
      ]
     },
     "execution_count": 18,
     "metadata": {},
     "output_type": "execute_result"
    }
   ],
   "source": [
    "null_count['subtype'].item()"
   ]
  },
  {
   "cell_type": "code",
   "execution_count": 22,
   "metadata": {},
   "outputs": [
    {
     "data": {
      "text/plain": [
       "['category',\n",
       " 'categoryid',\n",
       " 'client_id',\n",
       " 'date',\n",
       " 'detail_category',\n",
       " 'high_level_category',\n",
       " 'is_physical',\n",
       " 'recurring',\n",
       " 'address',\n",
       " 'city',\n",
       " 'country',\n",
       " 'merchantemail',\n",
       " 'latitude',\n",
       " 'merchantlogourl',\n",
       " 'longitude',\n",
       " 'simple_description',\n",
       " 'merchantphonenumber',\n",
       " 'state',\n",
       " 'merchanttype',\n",
       " 'merchantwebsite',\n",
       " 'zip_code',\n",
       " 'sourceid',\n",
       " 'transactionid',\n",
       " 'uid',\n",
       " 'type',\n",
       " 'subtype',\n",
       " 'original_description',\n",
       " 'amountnum',\n",
       " 'accountid',\n",
       " 'merchantname',\n",
       " 'merchantcountry',\n",
       " 'requestid',\n",
       " 'created_at',\n",
       " 'categorylabel',\n",
       " 'originalmerchanturl',\n",
       " 'cloudflaremerchanturl',\n",
       " 'guid',\n",
       " 'id',\n",
       " 'settlement',\n",
       " 'batch_request_id']"
      ]
     },
     "execution_count": 22,
     "metadata": {},
     "output_type": "execute_result"
    }
   ],
   "source": [
    "null_count.columns"
   ]
  },
  {
   "cell_type": "code",
   "execution_count": 27,
   "metadata": {},
   "outputs": [],
   "source": [
    "keeper_columns = []\n",
    "\n",
    "for column in null_count.columns:\n",
    "    if null_count[column].item() != row_count:\n",
    "        keeper_columns.append(column)"
   ]
  },
  {
   "cell_type": "code",
   "execution_count": null,
   "metadata": {},
   "outputs": [],
   "source": []
  }
 ],
 "metadata": {
  "kernelspec": {
   "display_name": "Python 3",
   "language": "python",
   "name": "python3"
  },
  "language_info": {
   "codemirror_mode": {
    "name": "ipython",
    "version": 3
   },
   "file_extension": ".py",
   "mimetype": "text/x-python",
   "name": "python",
   "nbconvert_exporter": "python",
   "pygments_lexer": "ipython3",
   "version": "3.11.6"
  },
  "orig_nbformat": 4
 },
 "nbformat": 4,
 "nbformat_minor": 2
}
