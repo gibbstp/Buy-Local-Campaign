{
 "cells": [
  {
   "cell_type": "code",
   "execution_count": 1,
   "metadata": {},
   "outputs": [],
   "source": [
    "import polars as pl"
   ]
  },
  {
   "cell_type": "markdown",
   "metadata": {},
   "source": [
    "def lazy_reader(columnslf = pl.scan_parquet(source=\"/app/data/parquet/transactions.parquet\",\n",
    "                     low_memory=True)"
   ]
  },
  {
   "cell_type": "markdown",
   "metadata": {},
   "source": [
    "Looking to enrich/fill in the data for locations."
   ]
  },
  {
   "cell_type": "code",
   "execution_count": 14,
   "metadata": {},
   "outputs": [],
   "source": [
    "columns_to_read = [\"city\", \"state\", \"zip_code\", \"latitude\", \"longitude\"]\n",
    "    \n",
    "select_df = pl.read_parquet(source=\"/app/data/parquet/transactions.parquet\",\n",
    "                            columns=columns_to_read,\n",
    "                            use_pyarrow=True,\n",
    "                            memory_map=True,\n",
    "                            low_memory=False)"
   ]
  },
  {
   "cell_type": "code",
   "execution_count": 15,
   "metadata": {},
   "outputs": [
    {
     "data": {
      "text/html": [
       "<div><style>\n",
       ".dataframe > thead > tr > th,\n",
       ".dataframe > tbody > tr > td {\n",
       "  text-align: right;\n",
       "  white-space: pre-wrap;\n",
       "}\n",
       "</style>\n",
       "<small>shape: (5, 5)</small><table border=\"1\" class=\"dataframe\"><thead><tr><th>city</th><th>state</th><th>zip_code</th><th>latitude</th><th>longitude</th></tr><tr><td>str</td><td>str</td><td>i64</td><td>f64</td><td>f64</td></tr></thead><tbody><tr><td>null</td><td>null</td><td>null</td><td>null</td><td>null</td></tr><tr><td>null</td><td>null</td><td>null</td><td>null</td><td>null</td></tr><tr><td>null</td><td>null</td><td>null</td><td>null</td><td>null</td></tr><tr><td>null</td><td>null</td><td>null</td><td>null</td><td>null</td></tr><tr><td>null</td><td>null</td><td>null</td><td>null</td><td>null</td></tr></tbody></table></div>"
      ],
      "text/plain": [
       "shape: (5, 5)\n",
       "┌──────┬───────┬──────────┬──────────┬───────────┐\n",
       "│ city ┆ state ┆ zip_code ┆ latitude ┆ longitude │\n",
       "│ ---  ┆ ---   ┆ ---      ┆ ---      ┆ ---       │\n",
       "│ str  ┆ str   ┆ i64      ┆ f64      ┆ f64       │\n",
       "╞══════╪═══════╪══════════╪══════════╪═══════════╡\n",
       "│ null ┆ null  ┆ null     ┆ null     ┆ null      │\n",
       "│ null ┆ null  ┆ null     ┆ null     ┆ null      │\n",
       "│ null ┆ null  ┆ null     ┆ null     ┆ null      │\n",
       "│ null ┆ null  ┆ null     ┆ null     ┆ null      │\n",
       "│ null ┆ null  ┆ null     ┆ null     ┆ null      │\n",
       "└──────┴───────┴──────────┴──────────┴───────────┘"
      ]
     },
     "execution_count": 15,
     "metadata": {},
     "output_type": "execute_result"
    }
   ],
   "source": [
    "select_df.head()"
   ]
  },
  {
   "cell_type": "markdown",
   "metadata": {},
   "source": [
    "Trying to answer how many of the transactions have a city and a state but no zip code. The missing data of city, state, or zip code will be filled in using the list of zip code data downloaded from https://www.unitedstateszipcodes.org/zip-code-database/. Data contains all of the zip codes for the US."
   ]
  },
  {
   "cell_type": "code",
   "execution_count": 9,
   "metadata": {},
   "outputs": [],
   "source": [
    "not_null_city_state_null_zip = select_df.filter((pl.col(\"city\").is_not_null()) & pl.col(\"state\").is_not_null() & pl.col(\"zip_code\").is_null())"
   ]
  },
  {
   "cell_type": "code",
   "execution_count": 10,
   "metadata": {},
   "outputs": [
    {
     "data": {
      "text/html": [
       "<div><style>\n",
       ".dataframe > thead > tr > th,\n",
       ".dataframe > tbody > tr > td {\n",
       "  text-align: right;\n",
       "  white-space: pre-wrap;\n",
       "}\n",
       "</style>\n",
       "<small>shape: (5, 3)</small><table border=\"1\" class=\"dataframe\"><thead><tr><th>city</th><th>state</th><th>zip_code</th></tr><tr><td>str</td><td>str</td><td>i64</td></tr></thead><tbody><tr><td>&quot;Little Rock&quot;</td><td>&quot;AR&quot;</td><td>null</td></tr><tr><td>&quot;Little Rock&quot;</td><td>&quot;AR&quot;</td><td>null</td></tr><tr><td>&quot;Little Rock&quot;</td><td>&quot;AR&quot;</td><td>null</td></tr><tr><td>&quot;Little Rock&quot;</td><td>&quot;AR&quot;</td><td>null</td></tr><tr><td>&quot;Benton&quot;</td><td>&quot;AR&quot;</td><td>null</td></tr></tbody></table></div>"
      ],
      "text/plain": [
       "shape: (5, 3)\n",
       "┌─────────────┬───────┬──────────┐\n",
       "│ city        ┆ state ┆ zip_code │\n",
       "│ ---         ┆ ---   ┆ ---      │\n",
       "│ str         ┆ str   ┆ i64      │\n",
       "╞═════════════╪═══════╪══════════╡\n",
       "│ Little Rock ┆ AR    ┆ null     │\n",
       "│ Little Rock ┆ AR    ┆ null     │\n",
       "│ Little Rock ┆ AR    ┆ null     │\n",
       "│ Little Rock ┆ AR    ┆ null     │\n",
       "│ Benton      ┆ AR    ┆ null     │\n",
       "└─────────────┴───────┴──────────┘"
      ]
     },
     "execution_count": 10,
     "metadata": {},
     "output_type": "execute_result"
    }
   ],
   "source": [
    "not_null_city_state_null_zip.head()"
   ]
  },
  {
   "cell_type": "code",
   "execution_count": 12,
   "metadata": {},
   "outputs": [
    {
     "data": {
      "text/plain": [
       "(14158198, 3)"
      ]
     },
     "execution_count": 12,
     "metadata": {},
     "output_type": "execute_result"
    }
   ],
   "source": [
    "not_null_city_state_null_zip.shape"
   ]
  },
  {
   "cell_type": "code",
   "execution_count": 13,
   "metadata": {},
   "outputs": [
    {
     "data": {
      "text/html": [
       "<div><style>\n",
       ".dataframe > thead > tr > th,\n",
       ".dataframe > tbody > tr > td {\n",
       "  text-align: right;\n",
       "  white-space: pre-wrap;\n",
       "}\n",
       "</style>\n",
       "<small>shape: (0, 3)</small><table border=\"1\" class=\"dataframe\"><thead><tr><th>city</th><th>state</th><th>zip_code</th></tr><tr><td>str</td><td>str</td><td>i64</td></tr></thead><tbody></tbody></table></div>"
      ],
      "text/plain": [
       "shape: (0, 3)\n",
       "┌──────┬───────┬──────────┐\n",
       "│ city ┆ state ┆ zip_code │\n",
       "│ ---  ┆ ---   ┆ ---      │\n",
       "│ str  ┆ str   ┆ i64      │\n",
       "╞══════╪═══════╪══════════╡\n",
       "└──────┴───────┴──────────┘"
      ]
     },
     "execution_count": 13,
     "metadata": {},
     "output_type": "execute_result"
    }
   ],
   "source": [
    "not_null_city_state_null_zip.filter(pl.col(\"zip_code\").is_not_null())"
   ]
  },
  {
   "cell_type": "code",
   "execution_count": 17,
   "metadata": {},
   "outputs": [],
   "source": [
    "bentonville = select_df.filter(pl.col(\"zip_code\") == 72713)"
   ]
  },
  {
   "cell_type": "code",
   "execution_count": 18,
   "metadata": {},
   "outputs": [
    {
     "data": {
      "text/html": [
       "<div><style>\n",
       ".dataframe > thead > tr > th,\n",
       ".dataframe > tbody > tr > td {\n",
       "  text-align: right;\n",
       "  white-space: pre-wrap;\n",
       "}\n",
       "</style>\n",
       "<small>shape: (5, 5)</small><table border=\"1\" class=\"dataframe\"><thead><tr><th>city</th><th>state</th><th>zip_code</th><th>latitude</th><th>longitude</th></tr><tr><td>str</td><td>str</td><td>i64</td><td>f64</td><td>f64</td></tr></thead><tbody><tr><td>&quot;Bentonville&quot;</td><td>&quot;AR&quot;</td><td>72713</td><td>36.335249</td><td>-94.221973</td></tr><tr><td>&quot;Bentonville&quot;</td><td>&quot;AR&quot;</td><td>72713</td><td>36.335249</td><td>-94.221973</td></tr><tr><td>&quot;Bentonville&quot;</td><td>&quot;AR&quot;</td><td>72713</td><td>36.275619</td><td>-94.297313</td></tr><tr><td>&quot;Bentonville&quot;</td><td>&quot;AR&quot;</td><td>72713</td><td>36.335249</td><td>-94.221973</td></tr><tr><td>&quot;Bentonville&quot;</td><td>&quot;AR&quot;</td><td>72713</td><td>36.335249</td><td>-94.221973</td></tr></tbody></table></div>"
      ],
      "text/plain": [
       "shape: (5, 5)\n",
       "┌─────────────┬───────┬──────────┬───────────┬────────────┐\n",
       "│ city        ┆ state ┆ zip_code ┆ latitude  ┆ longitude  │\n",
       "│ ---         ┆ ---   ┆ ---      ┆ ---       ┆ ---        │\n",
       "│ str         ┆ str   ┆ i64      ┆ f64       ┆ f64        │\n",
       "╞═════════════╪═══════╪══════════╪═══════════╪════════════╡\n",
       "│ Bentonville ┆ AR    ┆ 72713    ┆ 36.335249 ┆ -94.221973 │\n",
       "│ Bentonville ┆ AR    ┆ 72713    ┆ 36.335249 ┆ -94.221973 │\n",
       "│ Bentonville ┆ AR    ┆ 72713    ┆ 36.275619 ┆ -94.297313 │\n",
       "│ Bentonville ┆ AR    ┆ 72713    ┆ 36.335249 ┆ -94.221973 │\n",
       "│ Bentonville ┆ AR    ┆ 72713    ┆ 36.335249 ┆ -94.221973 │\n",
       "└─────────────┴───────┴──────────┴───────────┴────────────┘"
      ]
     },
     "execution_count": 18,
     "metadata": {},
     "output_type": "execute_result"
    }
   ],
   "source": [
    "bentonville.head()"
   ]
  },
  {
   "cell_type": "code",
   "execution_count": null,
   "metadata": {},
   "outputs": [],
   "source": []
  }
 ],
 "metadata": {
  "kernelspec": {
   "display_name": "Python 3",
   "language": "python",
   "name": "python3"
  },
  "language_info": {
   "codemirror_mode": {
    "name": "ipython",
    "version": 3
   },
   "file_extension": ".py",
   "mimetype": "text/x-python",
   "name": "python",
   "nbconvert_exporter": "python",
   "pygments_lexer": "ipython3",
   "version": "3.11.6"
  }
 },
 "nbformat": 4,
 "nbformat_minor": 2
}
