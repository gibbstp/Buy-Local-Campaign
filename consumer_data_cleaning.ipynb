{
 "cells": [
  {
   "cell_type": "code",
   "execution_count": 1,
   "metadata": {},
   "outputs": [],
   "source": [
    "import pandas as pd"
   ]
  },
  {
   "cell_type": "code",
   "execution_count": 3,
   "metadata": {},
   "outputs": [],
   "source": [
    "file_path = \"/app/data/csv/data-upload_AFCU_consumer-details-01_2023-06-07.csv\"\n",
    "\n",
    "df = pd.read_csv(file_path,\n",
    "                 header=0,\n",
    "                 index_col=0,\n",
    "                 low_memory=False)"
   ]
  },
  {
   "cell_type": "code",
   "execution_count": 5,
   "metadata": {},
   "outputs": [
    {
     "data": {
      "text/html": [
       "<div>\n",
       "<style scoped>\n",
       "    .dataframe tbody tr th:only-of-type {\n",
       "        vertical-align: middle;\n",
       "    }\n",
       "\n",
       "    .dataframe tbody tr th {\n",
       "        vertical-align: top;\n",
       "    }\n",
       "\n",
       "    .dataframe thead th {\n",
       "        text-align: right;\n",
       "    }\n",
       "</style>\n",
       "<table border=\"1\" class=\"dataframe\">\n",
       "  <thead>\n",
       "    <tr style=\"text-align: right;\">\n",
       "      <th></th>\n",
       "      <th>ConsumerID</th>\n",
       "      <th>EntityType</th>\n",
       "      <th>DateOfBirthOrDateOfFormation</th>\n",
       "      <th>Gender</th>\n",
       "      <th>State</th>\n",
       "      <th>ZipCode</th>\n",
       "    </tr>\n",
       "  </thead>\n",
       "  <tbody>\n",
       "    <tr>\n",
       "      <th>0</th>\n",
       "      <td>286474</td>\n",
       "      <td>Individual</td>\n",
       "      <td>1978-12-17 00:00:00</td>\n",
       "      <td>NaN</td>\n",
       "      <td>AR</td>\n",
       "      <td>72417</td>\n",
       "    </tr>\n",
       "    <tr>\n",
       "      <th>1</th>\n",
       "      <td>16350</td>\n",
       "      <td>Individual</td>\n",
       "      <td>1973-12-26 00:00:00</td>\n",
       "      <td>NaN</td>\n",
       "      <td>AR</td>\n",
       "      <td>721175217</td>\n",
       "    </tr>\n",
       "    <tr>\n",
       "      <th>2</th>\n",
       "      <td>19135</td>\n",
       "      <td>Individual</td>\n",
       "      <td>1979-09-13 00:00:00</td>\n",
       "      <td>NaN</td>\n",
       "      <td>AR</td>\n",
       "      <td>720191956</td>\n",
       "    </tr>\n",
       "    <tr>\n",
       "      <th>3</th>\n",
       "      <td>14518</td>\n",
       "      <td>Individual</td>\n",
       "      <td>1943-12-31 00:00:00</td>\n",
       "      <td>NaN</td>\n",
       "      <td>AR</td>\n",
       "      <td>716712527</td>\n",
       "    </tr>\n",
       "    <tr>\n",
       "      <th>4</th>\n",
       "      <td>19762</td>\n",
       "      <td>Individual</td>\n",
       "      <td>1943-05-28 00:00:00</td>\n",
       "      <td>NaN</td>\n",
       "      <td>AR</td>\n",
       "      <td>720079267</td>\n",
       "    </tr>\n",
       "  </tbody>\n",
       "</table>\n",
       "</div>"
      ],
      "text/plain": [
       "   ConsumerID  EntityType DateOfBirthOrDateOfFormation  Gender State  \\\n",
       "0      286474  Individual          1978-12-17 00:00:00     NaN    AR   \n",
       "1       16350  Individual          1973-12-26 00:00:00     NaN    AR   \n",
       "2       19135  Individual          1979-09-13 00:00:00     NaN    AR   \n",
       "3       14518  Individual          1943-12-31 00:00:00     NaN    AR   \n",
       "4       19762  Individual          1943-05-28 00:00:00     NaN    AR   \n",
       "\n",
       "     ZipCode  \n",
       "0      72417  \n",
       "1  721175217  \n",
       "2  720191956  \n",
       "3  716712527  \n",
       "4  720079267  "
      ]
     },
     "execution_count": 5,
     "metadata": {},
     "output_type": "execute_result"
    }
   ],
   "source": [
    "df.head()"
   ]
  },
  {
   "cell_type": "code",
   "execution_count": 6,
   "metadata": {},
   "outputs": [
    {
     "name": "stdout",
     "output_type": "stream",
     "text": [
      "<class 'pandas.core.frame.DataFrame'>\n",
      "Index: 334601 entries, 0 to 334600\n",
      "Data columns (total 6 columns):\n",
      " #   Column                        Non-Null Count   Dtype  \n",
      "---  ------                        --------------   -----  \n",
      " 0   ConsumerID                    334601 non-null  int64  \n",
      " 1   EntityType                    334601 non-null  object \n",
      " 2   DateOfBirthOrDateOfFormation  323010 non-null  object \n",
      " 3   Gender                        0 non-null       float64\n",
      " 4   State                         326732 non-null  object \n",
      " 5   ZipCode                       326731 non-null  object \n",
      "dtypes: float64(1), int64(1), object(4)\n",
      "memory usage: 17.9+ MB\n"
     ]
    }
   ],
   "source": [
    "df.info()"
   ]
  },
  {
   "cell_type": "code",
   "execution_count": 7,
   "metadata": {},
   "outputs": [
    {
     "data": {
      "text/plain": [
       "0          AR\n",
       "1          AR\n",
       "2          AR\n",
       "3          AR\n",
       "4          AR\n",
       "         ... \n",
       "334596    nan\n",
       "334597    nan\n",
       "334598    nan\n",
       "334599    nan\n",
       "334600    nan\n",
       "Name: State, Length: 334601, dtype: object"
      ]
     },
     "execution_count": 7,
     "metadata": {},
     "output_type": "execute_result"
    }
   ],
   "source": [
    "df.ConsumerID.astype('int32')\n",
    "df.EntityType.astype(str)\n",
    "df.State.astype(str)"
   ]
  },
  {
   "cell_type": "code",
   "execution_count": 8,
   "metadata": {},
   "outputs": [
    {
     "name": "stdout",
     "output_type": "stream",
     "text": [
      "<class 'pandas.core.series.Series'>\n",
      "Index: 334601 entries, 0 to 334600\n",
      "Series name: ZipCode\n",
      "Non-Null Count   Dtype \n",
      "--------------   ----- \n",
      "326731 non-null  object\n",
      "dtypes: object(1)\n",
      "memory usage: 5.1+ MB\n"
     ]
    }
   ],
   "source": [
    "df.ZipCode.info()"
   ]
  },
  {
   "cell_type": "code",
   "execution_count": 9,
   "metadata": {},
   "outputs": [
    {
     "data": {
      "text/plain": [
       "'5217'"
      ]
     },
     "execution_count": 9,
     "metadata": {},
     "output_type": "execute_result"
    }
   ],
   "source": [
    "df.ZipCode[1][5:]"
   ]
  },
  {
   "cell_type": "code",
   "execution_count": 10,
   "metadata": {},
   "outputs": [
    {
     "data": {
      "text/plain": [
       "0        \n",
       "1    5217\n",
       "2    1956\n",
       "3    2527\n",
       "4    9267\n",
       "Name: ZipCodeExtension, dtype: object"
      ]
     },
     "execution_count": 10,
     "metadata": {},
     "output_type": "execute_result"
    }
   ],
   "source": [
    "ZipCodeExtension = df.ZipCode.str[5:]\n",
    "ZipCodeExtension.name = \"ZipCodeExtension\"\n",
    "ZipCodeExtension.head()\n"
   ]
  },
  {
   "cell_type": "code",
   "execution_count": 11,
   "metadata": {},
   "outputs": [],
   "source": [
    "df.ZipCode = df.ZipCode.str[0:5]"
   ]
  },
  {
   "cell_type": "code",
   "execution_count": 12,
   "metadata": {},
   "outputs": [
    {
     "data": {
      "text/html": [
       "<div>\n",
       "<style scoped>\n",
       "    .dataframe tbody tr th:only-of-type {\n",
       "        vertical-align: middle;\n",
       "    }\n",
       "\n",
       "    .dataframe tbody tr th {\n",
       "        vertical-align: top;\n",
       "    }\n",
       "\n",
       "    .dataframe thead th {\n",
       "        text-align: right;\n",
       "    }\n",
       "</style>\n",
       "<table border=\"1\" class=\"dataframe\">\n",
       "  <thead>\n",
       "    <tr style=\"text-align: right;\">\n",
       "      <th></th>\n",
       "      <th>ConsumerID</th>\n",
       "      <th>EntityType</th>\n",
       "      <th>DateOfBirthOrDateOfFormation</th>\n",
       "      <th>Gender</th>\n",
       "      <th>State</th>\n",
       "      <th>ZipCode</th>\n",
       "    </tr>\n",
       "  </thead>\n",
       "  <tbody>\n",
       "    <tr>\n",
       "      <th>0</th>\n",
       "      <td>286474</td>\n",
       "      <td>Individual</td>\n",
       "      <td>1978-12-17 00:00:00</td>\n",
       "      <td>NaN</td>\n",
       "      <td>AR</td>\n",
       "      <td>72417</td>\n",
       "    </tr>\n",
       "    <tr>\n",
       "      <th>1</th>\n",
       "      <td>16350</td>\n",
       "      <td>Individual</td>\n",
       "      <td>1973-12-26 00:00:00</td>\n",
       "      <td>NaN</td>\n",
       "      <td>AR</td>\n",
       "      <td>72117</td>\n",
       "    </tr>\n",
       "    <tr>\n",
       "      <th>2</th>\n",
       "      <td>19135</td>\n",
       "      <td>Individual</td>\n",
       "      <td>1979-09-13 00:00:00</td>\n",
       "      <td>NaN</td>\n",
       "      <td>AR</td>\n",
       "      <td>72019</td>\n",
       "    </tr>\n",
       "    <tr>\n",
       "      <th>3</th>\n",
       "      <td>14518</td>\n",
       "      <td>Individual</td>\n",
       "      <td>1943-12-31 00:00:00</td>\n",
       "      <td>NaN</td>\n",
       "      <td>AR</td>\n",
       "      <td>71671</td>\n",
       "    </tr>\n",
       "    <tr>\n",
       "      <th>4</th>\n",
       "      <td>19762</td>\n",
       "      <td>Individual</td>\n",
       "      <td>1943-05-28 00:00:00</td>\n",
       "      <td>NaN</td>\n",
       "      <td>AR</td>\n",
       "      <td>72007</td>\n",
       "    </tr>\n",
       "  </tbody>\n",
       "</table>\n",
       "</div>"
      ],
      "text/plain": [
       "   ConsumerID  EntityType DateOfBirthOrDateOfFormation  Gender State ZipCode\n",
       "0      286474  Individual          1978-12-17 00:00:00     NaN    AR   72417\n",
       "1       16350  Individual          1973-12-26 00:00:00     NaN    AR   72117\n",
       "2       19135  Individual          1979-09-13 00:00:00     NaN    AR   72019\n",
       "3       14518  Individual          1943-12-31 00:00:00     NaN    AR   71671\n",
       "4       19762  Individual          1943-05-28 00:00:00     NaN    AR   72007"
      ]
     },
     "execution_count": 12,
     "metadata": {},
     "output_type": "execute_result"
    }
   ],
   "source": [
    "df.head()"
   ]
  },
  {
   "cell_type": "code",
   "execution_count": 13,
   "metadata": {},
   "outputs": [],
   "source": [
    "new_df = pd.concat([df, ZipCodeExtension],\n",
    "                axis=1)"
   ]
  },
  {
   "cell_type": "code",
   "execution_count": 14,
   "metadata": {},
   "outputs": [
    {
     "data": {
      "text/html": [
       "<div>\n",
       "<style scoped>\n",
       "    .dataframe tbody tr th:only-of-type {\n",
       "        vertical-align: middle;\n",
       "    }\n",
       "\n",
       "    .dataframe tbody tr th {\n",
       "        vertical-align: top;\n",
       "    }\n",
       "\n",
       "    .dataframe thead th {\n",
       "        text-align: right;\n",
       "    }\n",
       "</style>\n",
       "<table border=\"1\" class=\"dataframe\">\n",
       "  <thead>\n",
       "    <tr style=\"text-align: right;\">\n",
       "      <th></th>\n",
       "      <th>ConsumerID</th>\n",
       "      <th>EntityType</th>\n",
       "      <th>DateOfBirthOrDateOfFormation</th>\n",
       "      <th>Gender</th>\n",
       "      <th>State</th>\n",
       "      <th>ZipCode</th>\n",
       "      <th>ZipCodeExtension</th>\n",
       "    </tr>\n",
       "  </thead>\n",
       "  <tbody>\n",
       "    <tr>\n",
       "      <th>0</th>\n",
       "      <td>286474</td>\n",
       "      <td>Individual</td>\n",
       "      <td>1978-12-17 00:00:00</td>\n",
       "      <td>NaN</td>\n",
       "      <td>AR</td>\n",
       "      <td>72417</td>\n",
       "      <td></td>\n",
       "    </tr>\n",
       "    <tr>\n",
       "      <th>1</th>\n",
       "      <td>16350</td>\n",
       "      <td>Individual</td>\n",
       "      <td>1973-12-26 00:00:00</td>\n",
       "      <td>NaN</td>\n",
       "      <td>AR</td>\n",
       "      <td>72117</td>\n",
       "      <td>5217</td>\n",
       "    </tr>\n",
       "    <tr>\n",
       "      <th>2</th>\n",
       "      <td>19135</td>\n",
       "      <td>Individual</td>\n",
       "      <td>1979-09-13 00:00:00</td>\n",
       "      <td>NaN</td>\n",
       "      <td>AR</td>\n",
       "      <td>72019</td>\n",
       "      <td>1956</td>\n",
       "    </tr>\n",
       "    <tr>\n",
       "      <th>3</th>\n",
       "      <td>14518</td>\n",
       "      <td>Individual</td>\n",
       "      <td>1943-12-31 00:00:00</td>\n",
       "      <td>NaN</td>\n",
       "      <td>AR</td>\n",
       "      <td>71671</td>\n",
       "      <td>2527</td>\n",
       "    </tr>\n",
       "    <tr>\n",
       "      <th>4</th>\n",
       "      <td>19762</td>\n",
       "      <td>Individual</td>\n",
       "      <td>1943-05-28 00:00:00</td>\n",
       "      <td>NaN</td>\n",
       "      <td>AR</td>\n",
       "      <td>72007</td>\n",
       "      <td>9267</td>\n",
       "    </tr>\n",
       "  </tbody>\n",
       "</table>\n",
       "</div>"
      ],
      "text/plain": [
       "   ConsumerID  EntityType DateOfBirthOrDateOfFormation  Gender State ZipCode  \\\n",
       "0      286474  Individual          1978-12-17 00:00:00     NaN    AR   72417   \n",
       "1       16350  Individual          1973-12-26 00:00:00     NaN    AR   72117   \n",
       "2       19135  Individual          1979-09-13 00:00:00     NaN    AR   72019   \n",
       "3       14518  Individual          1943-12-31 00:00:00     NaN    AR   71671   \n",
       "4       19762  Individual          1943-05-28 00:00:00     NaN    AR   72007   \n",
       "\n",
       "  ZipCodeExtension  \n",
       "0                   \n",
       "1             5217  \n",
       "2             1956  \n",
       "3             2527  \n",
       "4             9267  "
      ]
     },
     "execution_count": 14,
     "metadata": {},
     "output_type": "execute_result"
    }
   ],
   "source": [
    "new_df.head()"
   ]
  },
  {
   "cell_type": "code",
   "execution_count": 15,
   "metadata": {},
   "outputs": [
    {
     "name": "stdout",
     "output_type": "stream",
     "text": [
      "<class 'pandas.core.frame.DataFrame'>\n",
      "Index: 334601 entries, 0 to 334600\n",
      "Data columns (total 7 columns):\n",
      " #   Column                        Non-Null Count   Dtype  \n",
      "---  ------                        --------------   -----  \n",
      " 0   ConsumerID                    334601 non-null  int64  \n",
      " 1   EntityType                    334601 non-null  object \n",
      " 2   DateOfBirthOrDateOfFormation  323010 non-null  object \n",
      " 3   Gender                        0 non-null       float64\n",
      " 4   State                         326732 non-null  object \n",
      " 5   ZipCode                       326731 non-null  object \n",
      " 6   ZipCodeExtension              326731 non-null  object \n",
      "dtypes: float64(1), int64(1), object(5)\n",
      "memory usage: 28.5+ MB\n"
     ]
    }
   ],
   "source": [
    "new_df.info()"
   ]
  },
  {
   "cell_type": "code",
   "execution_count": 16,
   "metadata": {},
   "outputs": [],
   "source": [
    "df = new_df"
   ]
  },
  {
   "cell_type": "code",
   "execution_count": 17,
   "metadata": {},
   "outputs": [
    {
     "data": {
      "text/plain": [
       "0         6881\n",
       "1         6581\n",
       "2         6483\n",
       "3         6135\n",
       "4         6471\n",
       "          ... \n",
       "334596    <NA>\n",
       "334597    <NA>\n",
       "334598    <NA>\n",
       "334599    <NA>\n",
       "334600    <NA>\n",
       "Name: ZipCode, Length: 334601, dtype: Int16"
      ]
     },
     "execution_count": 17,
     "metadata": {},
     "output_type": "execute_result"
    }
   ],
   "source": [
    "df.ZipCode.astype('Int16')"
   ]
  },
  {
   "cell_type": "code",
   "execution_count": 18,
   "metadata": {},
   "outputs": [
    {
     "name": "stdout",
     "output_type": "stream",
     "text": [
      "<class 'pandas.core.frame.DataFrame'>\n",
      "Index: 334601 entries, 0 to 334600\n",
      "Data columns (total 7 columns):\n",
      " #   Column                        Non-Null Count   Dtype  \n",
      "---  ------                        --------------   -----  \n",
      " 0   ConsumerID                    334601 non-null  int64  \n",
      " 1   EntityType                    334601 non-null  object \n",
      " 2   DateOfBirthOrDateOfFormation  323010 non-null  object \n",
      " 3   Gender                        0 non-null       float64\n",
      " 4   State                         326732 non-null  object \n",
      " 5   ZipCode                       326731 non-null  object \n",
      " 6   ZipCodeExtension              326731 non-null  object \n",
      "dtypes: float64(1), int64(1), object(5)\n",
      "memory usage: 28.5+ MB\n"
     ]
    }
   ],
   "source": [
    "df.info()"
   ]
  },
  {
   "cell_type": "code",
   "execution_count": 19,
   "metadata": {},
   "outputs": [
    {
     "data": {
      "text/plain": [
       "0    1978-12-17 00:00:00\n",
       "1    1973-12-26 00:00:00\n",
       "2    1979-09-13 00:00:00\n",
       "3    1943-12-31 00:00:00\n",
       "4    1943-05-28 00:00:00\n",
       "Name: DateOfBirthOrDateOfFormation, dtype: object"
      ]
     },
     "execution_count": 19,
     "metadata": {},
     "output_type": "execute_result"
    }
   ],
   "source": [
    "date_time = df.DateOfBirthOrDateOfFormation\n",
    "date_time.head()"
   ]
  },
  {
   "cell_type": "code",
   "execution_count": 20,
   "metadata": {},
   "outputs": [],
   "source": [
    "date = date_time.str.split(\" \").str[0]\n",
    "time = date_time.str.split(\" \").str[1]"
   ]
  },
  {
   "cell_type": "code",
   "execution_count": 21,
   "metadata": {},
   "outputs": [
    {
     "data": {
      "text/html": [
       "<div>\n",
       "<style scoped>\n",
       "    .dataframe tbody tr th:only-of-type {\n",
       "        vertical-align: middle;\n",
       "    }\n",
       "\n",
       "    .dataframe tbody tr th {\n",
       "        vertical-align: top;\n",
       "    }\n",
       "\n",
       "    .dataframe thead th {\n",
       "        text-align: right;\n",
       "    }\n",
       "</style>\n",
       "<table border=\"1\" class=\"dataframe\">\n",
       "  <thead>\n",
       "    <tr style=\"text-align: right;\">\n",
       "      <th></th>\n",
       "      <th>ConsumerID</th>\n",
       "      <th>EntityType</th>\n",
       "      <th>DateOfBirthOrDateOfFormation</th>\n",
       "      <th>Gender</th>\n",
       "      <th>State</th>\n",
       "      <th>ZipCode</th>\n",
       "      <th>ZipCodeExtension</th>\n",
       "    </tr>\n",
       "  </thead>\n",
       "  <tbody>\n",
       "    <tr>\n",
       "      <th>0</th>\n",
       "      <td>286474</td>\n",
       "      <td>Individual</td>\n",
       "      <td>1978-12-17 00:00:00</td>\n",
       "      <td>NaN</td>\n",
       "      <td>AR</td>\n",
       "      <td>72417</td>\n",
       "      <td></td>\n",
       "    </tr>\n",
       "    <tr>\n",
       "      <th>1</th>\n",
       "      <td>16350</td>\n",
       "      <td>Individual</td>\n",
       "      <td>1973-12-26 00:00:00</td>\n",
       "      <td>NaN</td>\n",
       "      <td>AR</td>\n",
       "      <td>72117</td>\n",
       "      <td>5217</td>\n",
       "    </tr>\n",
       "    <tr>\n",
       "      <th>2</th>\n",
       "      <td>19135</td>\n",
       "      <td>Individual</td>\n",
       "      <td>1979-09-13 00:00:00</td>\n",
       "      <td>NaN</td>\n",
       "      <td>AR</td>\n",
       "      <td>72019</td>\n",
       "      <td>1956</td>\n",
       "    </tr>\n",
       "    <tr>\n",
       "      <th>3</th>\n",
       "      <td>14518</td>\n",
       "      <td>Individual</td>\n",
       "      <td>1943-12-31 00:00:00</td>\n",
       "      <td>NaN</td>\n",
       "      <td>AR</td>\n",
       "      <td>71671</td>\n",
       "      <td>2527</td>\n",
       "    </tr>\n",
       "    <tr>\n",
       "      <th>4</th>\n",
       "      <td>19762</td>\n",
       "      <td>Individual</td>\n",
       "      <td>1943-05-28 00:00:00</td>\n",
       "      <td>NaN</td>\n",
       "      <td>AR</td>\n",
       "      <td>72007</td>\n",
       "      <td>9267</td>\n",
       "    </tr>\n",
       "  </tbody>\n",
       "</table>\n",
       "</div>"
      ],
      "text/plain": [
       "   ConsumerID  EntityType DateOfBirthOrDateOfFormation  Gender State ZipCode  \\\n",
       "0      286474  Individual          1978-12-17 00:00:00     NaN    AR   72417   \n",
       "1       16350  Individual          1973-12-26 00:00:00     NaN    AR   72117   \n",
       "2       19135  Individual          1979-09-13 00:00:00     NaN    AR   72019   \n",
       "3       14518  Individual          1943-12-31 00:00:00     NaN    AR   71671   \n",
       "4       19762  Individual          1943-05-28 00:00:00     NaN    AR   72007   \n",
       "\n",
       "  ZipCodeExtension  \n",
       "0                   \n",
       "1             5217  \n",
       "2             1956  \n",
       "3             2527  \n",
       "4             9267  "
      ]
     },
     "execution_count": 21,
     "metadata": {},
     "output_type": "execute_result"
    }
   ],
   "source": [
    "df.head()"
   ]
  },
  {
   "cell_type": "code",
   "execution_count": 22,
   "metadata": {},
   "outputs": [
    {
     "data": {
      "text/plain": [
       "0    00:00:00\n",
       "1    00:00:00\n",
       "2    00:00:00\n",
       "3    00:00:00\n",
       "4    00:00:00\n",
       "Name: DateOfBirthOrDateOfFormation, dtype: object"
      ]
     },
     "execution_count": 22,
     "metadata": {},
     "output_type": "execute_result"
    }
   ],
   "source": [
    "date.head()\n",
    "time.head()"
   ]
  },
  {
   "cell_type": "code",
   "execution_count": 23,
   "metadata": {},
   "outputs": [],
   "source": [
    "date.name = \"DateOfBirthOrFormation\"\n",
    "time.name = \"Time\""
   ]
  },
  {
   "cell_type": "code",
   "execution_count": 24,
   "metadata": {},
   "outputs": [
    {
     "data": {
      "text/plain": [
       "array(['00:00:00', nan], dtype=object)"
      ]
     },
     "execution_count": 24,
     "metadata": {},
     "output_type": "execute_result"
    }
   ],
   "source": [
    "time.unique()"
   ]
  },
  {
   "cell_type": "markdown",
   "metadata": {},
   "source": [
    "Time is either midnight or nan; therefore, drop column as it is not useful"
   ]
  },
  {
   "cell_type": "code",
   "execution_count": 26,
   "metadata": {},
   "outputs": [
    {
     "data": {
      "text/plain": [
       "0    1978-12-17\n",
       "1    1973-12-26\n",
       "2    1979-09-13\n",
       "3    1943-12-31\n",
       "4    1943-05-28\n",
       "Name: DateOfBirthOrFormation, dtype: object"
      ]
     },
     "execution_count": 26,
     "metadata": {},
     "output_type": "execute_result"
    }
   ],
   "source": [
    "date.head()"
   ]
  },
  {
   "cell_type": "code",
   "execution_count": 25,
   "metadata": {},
   "outputs": [
    {
     "data": {
      "text/html": [
       "<div>\n",
       "<style scoped>\n",
       "    .dataframe tbody tr th:only-of-type {\n",
       "        vertical-align: middle;\n",
       "    }\n",
       "\n",
       "    .dataframe tbody tr th {\n",
       "        vertical-align: top;\n",
       "    }\n",
       "\n",
       "    .dataframe thead th {\n",
       "        text-align: right;\n",
       "    }\n",
       "</style>\n",
       "<table border=\"1\" class=\"dataframe\">\n",
       "  <thead>\n",
       "    <tr style=\"text-align: right;\">\n",
       "      <th></th>\n",
       "      <th>ConsumerID</th>\n",
       "      <th>EntityType</th>\n",
       "      <th>DateOfBirthOrDateOfFormation</th>\n",
       "      <th>Gender</th>\n",
       "      <th>State</th>\n",
       "      <th>ZipCode</th>\n",
       "      <th>ZipCodeExtension</th>\n",
       "    </tr>\n",
       "  </thead>\n",
       "  <tbody>\n",
       "    <tr>\n",
       "      <th>0</th>\n",
       "      <td>286474</td>\n",
       "      <td>Individual</td>\n",
       "      <td>1978-12-17 00:00:00</td>\n",
       "      <td>NaN</td>\n",
       "      <td>AR</td>\n",
       "      <td>72417</td>\n",
       "      <td></td>\n",
       "    </tr>\n",
       "    <tr>\n",
       "      <th>1</th>\n",
       "      <td>16350</td>\n",
       "      <td>Individual</td>\n",
       "      <td>1973-12-26 00:00:00</td>\n",
       "      <td>NaN</td>\n",
       "      <td>AR</td>\n",
       "      <td>72117</td>\n",
       "      <td>5217</td>\n",
       "    </tr>\n",
       "    <tr>\n",
       "      <th>2</th>\n",
       "      <td>19135</td>\n",
       "      <td>Individual</td>\n",
       "      <td>1979-09-13 00:00:00</td>\n",
       "      <td>NaN</td>\n",
       "      <td>AR</td>\n",
       "      <td>72019</td>\n",
       "      <td>1956</td>\n",
       "    </tr>\n",
       "    <tr>\n",
       "      <th>3</th>\n",
       "      <td>14518</td>\n",
       "      <td>Individual</td>\n",
       "      <td>1943-12-31 00:00:00</td>\n",
       "      <td>NaN</td>\n",
       "      <td>AR</td>\n",
       "      <td>71671</td>\n",
       "      <td>2527</td>\n",
       "    </tr>\n",
       "    <tr>\n",
       "      <th>4</th>\n",
       "      <td>19762</td>\n",
       "      <td>Individual</td>\n",
       "      <td>1943-05-28 00:00:00</td>\n",
       "      <td>NaN</td>\n",
       "      <td>AR</td>\n",
       "      <td>72007</td>\n",
       "      <td>9267</td>\n",
       "    </tr>\n",
       "  </tbody>\n",
       "</table>\n",
       "</div>"
      ],
      "text/plain": [
       "   ConsumerID  EntityType DateOfBirthOrDateOfFormation  Gender State ZipCode  \\\n",
       "0      286474  Individual          1978-12-17 00:00:00     NaN    AR   72417   \n",
       "1       16350  Individual          1973-12-26 00:00:00     NaN    AR   72117   \n",
       "2       19135  Individual          1979-09-13 00:00:00     NaN    AR   72019   \n",
       "3       14518  Individual          1943-12-31 00:00:00     NaN    AR   71671   \n",
       "4       19762  Individual          1943-05-28 00:00:00     NaN    AR   72007   \n",
       "\n",
       "  ZipCodeExtension  \n",
       "0                   \n",
       "1             5217  \n",
       "2             1956  \n",
       "3             2527  \n",
       "4             9267  "
      ]
     },
     "execution_count": 25,
     "metadata": {},
     "output_type": "execute_result"
    }
   ],
   "source": [
    "df.head()"
   ]
  },
  {
   "cell_type": "code",
   "execution_count": 31,
   "metadata": {},
   "outputs": [],
   "source": [
    "df = pd.concat([df, date], axis=1)"
   ]
  },
  {
   "cell_type": "code",
   "execution_count": 32,
   "metadata": {},
   "outputs": [
    {
     "data": {
      "text/html": [
       "<div>\n",
       "<style scoped>\n",
       "    .dataframe tbody tr th:only-of-type {\n",
       "        vertical-align: middle;\n",
       "    }\n",
       "\n",
       "    .dataframe tbody tr th {\n",
       "        vertical-align: top;\n",
       "    }\n",
       "\n",
       "    .dataframe thead th {\n",
       "        text-align: right;\n",
       "    }\n",
       "</style>\n",
       "<table border=\"1\" class=\"dataframe\">\n",
       "  <thead>\n",
       "    <tr style=\"text-align: right;\">\n",
       "      <th></th>\n",
       "      <th>ConsumerID</th>\n",
       "      <th>EntityType</th>\n",
       "      <th>DateOfBirthOrDateOfFormation</th>\n",
       "      <th>State</th>\n",
       "      <th>ZipCode</th>\n",
       "      <th>ZipCodeExtension</th>\n",
       "      <th>DateOfBirthOrFormation</th>\n",
       "    </tr>\n",
       "  </thead>\n",
       "  <tbody>\n",
       "    <tr>\n",
       "      <th>0</th>\n",
       "      <td>286474</td>\n",
       "      <td>Individual</td>\n",
       "      <td>1978-12-17 00:00:00</td>\n",
       "      <td>AR</td>\n",
       "      <td>72417</td>\n",
       "      <td></td>\n",
       "      <td>1978-12-17</td>\n",
       "    </tr>\n",
       "    <tr>\n",
       "      <th>1</th>\n",
       "      <td>16350</td>\n",
       "      <td>Individual</td>\n",
       "      <td>1973-12-26 00:00:00</td>\n",
       "      <td>AR</td>\n",
       "      <td>72117</td>\n",
       "      <td>5217</td>\n",
       "      <td>1973-12-26</td>\n",
       "    </tr>\n",
       "    <tr>\n",
       "      <th>2</th>\n",
       "      <td>19135</td>\n",
       "      <td>Individual</td>\n",
       "      <td>1979-09-13 00:00:00</td>\n",
       "      <td>AR</td>\n",
       "      <td>72019</td>\n",
       "      <td>1956</td>\n",
       "      <td>1979-09-13</td>\n",
       "    </tr>\n",
       "    <tr>\n",
       "      <th>3</th>\n",
       "      <td>14518</td>\n",
       "      <td>Individual</td>\n",
       "      <td>1943-12-31 00:00:00</td>\n",
       "      <td>AR</td>\n",
       "      <td>71671</td>\n",
       "      <td>2527</td>\n",
       "      <td>1943-12-31</td>\n",
       "    </tr>\n",
       "    <tr>\n",
       "      <th>4</th>\n",
       "      <td>19762</td>\n",
       "      <td>Individual</td>\n",
       "      <td>1943-05-28 00:00:00</td>\n",
       "      <td>AR</td>\n",
       "      <td>72007</td>\n",
       "      <td>9267</td>\n",
       "      <td>1943-05-28</td>\n",
       "    </tr>\n",
       "  </tbody>\n",
       "</table>\n",
       "</div>"
      ],
      "text/plain": [
       "   ConsumerID  EntityType DateOfBirthOrDateOfFormation State ZipCode  \\\n",
       "0      286474  Individual          1978-12-17 00:00:00    AR   72417   \n",
       "1       16350  Individual          1973-12-26 00:00:00    AR   72117   \n",
       "2       19135  Individual          1979-09-13 00:00:00    AR   72019   \n",
       "3       14518  Individual          1943-12-31 00:00:00    AR   71671   \n",
       "4       19762  Individual          1943-05-28 00:00:00    AR   72007   \n",
       "\n",
       "  ZipCodeExtension DateOfBirthOrFormation  \n",
       "0                              1978-12-17  \n",
       "1             5217             1973-12-26  \n",
       "2             1956             1979-09-13  \n",
       "3             2527             1943-12-31  \n",
       "4             9267             1943-05-28  "
      ]
     },
     "execution_count": 32,
     "metadata": {},
     "output_type": "execute_result"
    }
   ],
   "source": [
    "df.head()"
   ]
  },
  {
   "cell_type": "code",
   "execution_count": 28,
   "metadata": {},
   "outputs": [
    {
     "data": {
      "text/plain": [
       "array([nan])"
      ]
     },
     "execution_count": 28,
     "metadata": {},
     "output_type": "execute_result"
    }
   ],
   "source": [
    "df.Gender.unique()"
   ]
  },
  {
   "cell_type": "markdown",
   "metadata": {},
   "source": [
    "Gender is all nan's; therefore, drop column.\n",
    "also drop DateOfBirthOrDateOfFormation since data is represented in DateOfBirthOrFormation"
   ]
  },
  {
   "cell_type": "code",
   "execution_count": 29,
   "metadata": {},
   "outputs": [],
   "source": [
    "df.drop(columns=[\"Gender\"], axis=1, inplace=True)"
   ]
  },
  {
   "cell_type": "code",
   "execution_count": 33,
   "metadata": {},
   "outputs": [],
   "source": [
    "df.drop(columns=[\"DateOfBirthOrDateOfFormation\"], axis=1, inplace=True)"
   ]
  },
  {
   "cell_type": "code",
   "execution_count": 34,
   "metadata": {},
   "outputs": [
    {
     "data": {
      "text/html": [
       "<div>\n",
       "<style scoped>\n",
       "    .dataframe tbody tr th:only-of-type {\n",
       "        vertical-align: middle;\n",
       "    }\n",
       "\n",
       "    .dataframe tbody tr th {\n",
       "        vertical-align: top;\n",
       "    }\n",
       "\n",
       "    .dataframe thead th {\n",
       "        text-align: right;\n",
       "    }\n",
       "</style>\n",
       "<table border=\"1\" class=\"dataframe\">\n",
       "  <thead>\n",
       "    <tr style=\"text-align: right;\">\n",
       "      <th></th>\n",
       "      <th>ConsumerID</th>\n",
       "      <th>EntityType</th>\n",
       "      <th>State</th>\n",
       "      <th>ZipCode</th>\n",
       "      <th>ZipCodeExtension</th>\n",
       "      <th>DateOfBirthOrFormation</th>\n",
       "    </tr>\n",
       "  </thead>\n",
       "  <tbody>\n",
       "    <tr>\n",
       "      <th>0</th>\n",
       "      <td>286474</td>\n",
       "      <td>Individual</td>\n",
       "      <td>AR</td>\n",
       "      <td>72417</td>\n",
       "      <td></td>\n",
       "      <td>1978-12-17</td>\n",
       "    </tr>\n",
       "    <tr>\n",
       "      <th>1</th>\n",
       "      <td>16350</td>\n",
       "      <td>Individual</td>\n",
       "      <td>AR</td>\n",
       "      <td>72117</td>\n",
       "      <td>5217</td>\n",
       "      <td>1973-12-26</td>\n",
       "    </tr>\n",
       "    <tr>\n",
       "      <th>2</th>\n",
       "      <td>19135</td>\n",
       "      <td>Individual</td>\n",
       "      <td>AR</td>\n",
       "      <td>72019</td>\n",
       "      <td>1956</td>\n",
       "      <td>1979-09-13</td>\n",
       "    </tr>\n",
       "    <tr>\n",
       "      <th>3</th>\n",
       "      <td>14518</td>\n",
       "      <td>Individual</td>\n",
       "      <td>AR</td>\n",
       "      <td>71671</td>\n",
       "      <td>2527</td>\n",
       "      <td>1943-12-31</td>\n",
       "    </tr>\n",
       "    <tr>\n",
       "      <th>4</th>\n",
       "      <td>19762</td>\n",
       "      <td>Individual</td>\n",
       "      <td>AR</td>\n",
       "      <td>72007</td>\n",
       "      <td>9267</td>\n",
       "      <td>1943-05-28</td>\n",
       "    </tr>\n",
       "  </tbody>\n",
       "</table>\n",
       "</div>"
      ],
      "text/plain": [
       "   ConsumerID  EntityType State ZipCode ZipCodeExtension  \\\n",
       "0      286474  Individual    AR   72417                    \n",
       "1       16350  Individual    AR   72117             5217   \n",
       "2       19135  Individual    AR   72019             1956   \n",
       "3       14518  Individual    AR   71671             2527   \n",
       "4       19762  Individual    AR   72007             9267   \n",
       "\n",
       "  DateOfBirthOrFormation  \n",
       "0             1978-12-17  \n",
       "1             1973-12-26  \n",
       "2             1979-09-13  \n",
       "3             1943-12-31  \n",
       "4             1943-05-28  "
      ]
     },
     "execution_count": 34,
     "metadata": {},
     "output_type": "execute_result"
    }
   ],
   "source": [
    "df.head()"
   ]
  },
  {
   "cell_type": "code",
   "execution_count": 35,
   "metadata": {},
   "outputs": [
    {
     "data": {
      "text/plain": [
       "Index(['ConsumerID', 'EntityType', 'State', 'ZipCode', 'ZipCodeExtension',\n",
       "       'DateOfBirthOrFormation'],\n",
       "      dtype='object')"
      ]
     },
     "execution_count": 35,
     "metadata": {},
     "output_type": "execute_result"
    }
   ],
   "source": [
    "df.columns"
   ]
  },
  {
   "cell_type": "code",
   "execution_count": 36,
   "metadata": {},
   "outputs": [
    {
     "name": "stdout",
     "output_type": "stream",
     "text": [
      "<class 'pandas.core.frame.DataFrame'>\n",
      "Index: 334601 entries, 0 to 334600\n",
      "Data columns (total 6 columns):\n",
      " #   Column                  Non-Null Count   Dtype \n",
      "---  ------                  --------------   ----- \n",
      " 0   ConsumerID              334601 non-null  int64 \n",
      " 1   EntityType              334601 non-null  object\n",
      " 2   State                   326732 non-null  object\n",
      " 3   ZipCode                 326731 non-null  object\n",
      " 4   ZipCodeExtension        326731 non-null  object\n",
      " 5   DateOfBirthOrFormation  323010 non-null  object\n",
      "dtypes: int64(1), object(5)\n",
      "memory usage: 25.9+ MB\n"
     ]
    }
   ],
   "source": [
    "df.info()"
   ]
  },
  {
   "cell_type": "code",
   "execution_count": 37,
   "metadata": {},
   "outputs": [],
   "source": [
    "df.DateOfBirthOrFormation = pd.to_datetime(df[\"DateOfBirthOrFormation\"])"
   ]
  },
  {
   "cell_type": "code",
   "execution_count": 39,
   "metadata": {},
   "outputs": [
    {
     "name": "stdout",
     "output_type": "stream",
     "text": [
      "<class 'pandas.core.frame.DataFrame'>\n",
      "Index: 334601 entries, 0 to 334600\n",
      "Data columns (total 6 columns):\n",
      " #   Column                  Non-Null Count   Dtype         \n",
      "---  ------                  --------------   -----         \n",
      " 0   ConsumerID              334601 non-null  int64         \n",
      " 1   EntityType              334601 non-null  object        \n",
      " 2   State                   326732 non-null  object        \n",
      " 3   ZipCode                 326731 non-null  object        \n",
      " 4   ZipCodeExtension        326731 non-null  object        \n",
      " 5   DateOfBirthOrFormation  323010 non-null  datetime64[ns]\n",
      "dtypes: datetime64[ns](1), int64(1), object(4)\n",
      "memory usage: 25.9+ MB\n"
     ]
    }
   ],
   "source": [
    "df.info()"
   ]
  },
  {
   "cell_type": "code",
   "execution_count": 41,
   "metadata": {},
   "outputs": [],
   "source": [
    "num_rows = df.ConsumerID.shape[0]"
   ]
  },
  {
   "cell_type": "code",
   "execution_count": 50,
   "metadata": {},
   "outputs": [
    {
     "name": "stdout",
     "output_type": "stream",
     "text": [
      "326731\n",
      "2.3520551343241607\n"
     ]
    }
   ],
   "source": [
    "print(num_rows - df.ZipCode.isnull().sum())\n",
    "print(100 - (num_rows - df.ZipCode.isnull().sum()) / num_rows * 100)"
   ]
  },
  {
   "cell_type": "markdown",
   "metadata": {},
   "source": [
    "# Writing dataframe to file"
   ]
  },
  {
   "cell_type": "code",
   "execution_count": 57,
   "metadata": {},
   "outputs": [],
   "source": [
    "df.to_csv(\"/app/data/csv/consumer.csv\")"
   ]
  },
  {
   "cell_type": "code",
   "execution_count": 59,
   "metadata": {},
   "outputs": [],
   "source": [
    "df.to_parquet(\"/app/data/parquet/consumer.parquet\")"
   ]
  }
 ],
 "metadata": {
  "kernelspec": {
   "display_name": "Python 3",
   "language": "python",
   "name": "python3"
  },
  "language_info": {
   "codemirror_mode": {
    "name": "ipython",
    "version": 3
   },
   "file_extension": ".py",
   "mimetype": "text/x-python",
   "name": "python",
   "nbconvert_exporter": "python",
   "pygments_lexer": "ipython3",
   "version": "3.11.6"
  },
  "orig_nbformat": 4
 },
 "nbformat": 4,
 "nbformat_minor": 2
}
